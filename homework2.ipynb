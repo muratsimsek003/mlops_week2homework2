{
 "cells": [
  {
   "cell_type": "code",
   "execution_count": 17,
   "id": "a43c18c1",
   "metadata": {},
   "outputs": [],
   "source": [
    "import pandas as pd\n",
    "import pickle\n",
    "import seaborn as sns\n",
    "import matplotlib.pyplot as plt\n",
    "import mlflow\n",
    "\n",
    "from sklearn.feature_extraction import DictVectorizer\n",
    "from sklearn.linear_model import LinearRegression\n",
    "from sklearn.linear_model import Lasso\n",
    "from sklearn.linear_model import Ridge\n",
    "from sklearn.metrics import mean_squared_error"
   ]
  },
  {
   "cell_type": "code",
   "execution_count": 18,
   "id": "2f6ba5bd",
   "metadata": {},
   "outputs": [
    {
     "name": "stdout",
     "output_type": "stream",
     "text": [
      "mlflow, version 1.26.0\n"
     ]
    }
   ],
   "source": [
    "!mlflow --version"
   ]
  },
  {
   "cell_type": "markdown",
   "id": "b86d5964",
   "metadata": {},
   "source": [
    "Question 1: Version of MLflow\n",
    "Answer  1: mlflow, version 1.26.0"
   ]
  },
  {
   "cell_type": "code",
   "execution_count": 19,
   "id": "720de723",
   "metadata": {},
   "outputs": [
    {
     "name": "stdout",
     "output_type": "stream",
     "text": [
      "C:\\Users\\IsTech\\Desktop\n",
      "C:\\Users\\IsTech\\Desktop\\TAXI_DATA_FOLDER\n"
     ]
    }
   ],
   "source": [
    "import os\n",
    "from pathlib import Path\n",
    "\n",
    "PATH = Path(os.getcwd()).parent\n",
    "print(PATH)\n",
    "DATA_PATH = os.path.join(PATH, 'TAXI_DATA_FOLDER')\n",
    "print(DATA_PATH)"
   ]
  },
  {
   "cell_type": "code",
   "execution_count": 9,
   "id": "c8fa1582",
   "metadata": {},
   "outputs": [
    {
     "name": "stdout",
     "output_type": "stream",
     "text": [
      "Collecting pyarrow\n",
      "  Downloading pyarrow-8.0.0-cp38-cp38-win_amd64.whl (17.9 MB)\n",
      "     --------------------------------------- 17.9/17.9 MB 11.1 MB/s eta 0:00:00\n",
      "Requirement already satisfied: numpy>=1.16.6 in c:\\users\\istech\\anaconda3\\lib\\site-packages (from pyarrow) (1.20.3)\n",
      "Installing collected packages: pyarrow\n",
      "Successfully installed pyarrow-8.0.0\n",
      "Collecting fastparquet\n",
      "  Downloading fastparquet-0.8.1-cp38-cp38-win_amd64.whl (617 kB)\n",
      "     -------------------------------------- 617.8/617.8 kB 2.4 MB/s eta 0:00:00\n",
      "Requirement already satisfied: numpy>=1.18 in c:\\users\\istech\\anaconda3\\lib\\site-packages (from fastparquet) (1.20.3)\n",
      "Collecting cramjam>=2.3.0\n",
      "  Downloading cramjam-2.5.0-cp38-none-win_amd64.whl (993 kB)\n",
      "     -------------------------------------- 993.4/993.4 kB 7.9 MB/s eta 0:00:00\n",
      "Requirement already satisfied: pandas>=1.1.0 in c:\\users\\istech\\anaconda3\\lib\\site-packages (from fastparquet) (1.3.5)\n",
      "Requirement already satisfied: fsspec in c:\\users\\istech\\anaconda3\\lib\\site-packages (from fastparquet) (2022.1.0)\n",
      "Requirement already satisfied: pytz>=2017.3 in c:\\users\\istech\\anaconda3\\lib\\site-packages (from pandas>=1.1.0->fastparquet) (2021.3)\n",
      "Requirement already satisfied: python-dateutil>=2.7.3 in c:\\users\\istech\\anaconda3\\lib\\site-packages (from pandas>=1.1.0->fastparquet) (2.8.2)\n",
      "Requirement already satisfied: six>=1.5 in c:\\users\\istech\\anaconda3\\lib\\site-packages (from python-dateutil>=2.7.3->pandas>=1.1.0->fastparquet) (1.16.0)\n",
      "Installing collected packages: cramjam, fastparquet\n",
      "Successfully installed cramjam-2.5.0 fastparquet-0.8.1\n"
     ]
    }
   ],
   "source": [
    "!pip install pyarrow\n",
    "!pip install fastparquet"
   ]
  },
  {
   "cell_type": "code",
   "execution_count": 20,
   "id": "cd285c86",
   "metadata": {},
   "outputs": [],
   "source": [
    "!python preprocess_data.py --raw_data_path \"C:\\Users\\IsTech\\Desktop\\experiment-tracking-homework2\\TAXI_DATA_FOLDER\" --dest_path \"./output\""
   ]
  },
  {
   "cell_type": "code",
   "execution_count": 27,
   "id": "d7a43f92",
   "metadata": {},
   "outputs": [
    {
     "data": {
      "text/plain": [
       "[<Experiment: artifact_location='./mlruns/0', experiment_id='0', lifecycle_stage='active', name='Default', tags={}>,\n",
       " <Experiment: artifact_location='./mlruns/1', experiment_id='1', lifecycle_stage='active', name='mlops_homework2', tags={}>,\n",
       " <Experiment: artifact_location='./mlruns/2', experiment_id='2', lifecycle_stage='active', name='mlops_hw2', tags={}>]"
      ]
     },
     "execution_count": 27,
     "metadata": {},
     "output_type": "execute_result"
    }
   ],
   "source": [
    "import mlflow\n",
    "mlflow.set_tracking_uri(\"sqlite:///mlflow.db\")\n",
    "mlflow.set_experiment(\"mlops_hw2\")\n",
    "mlflow.list_experiments()"
   ]
  },
  {
   "cell_type": "code",
   "execution_count": 28,
   "id": "9b5d852c",
   "metadata": {},
   "outputs": [],
   "source": [
    "!python train.py --data_path \"C:\\Users\\IsTech\\Desktop\\experiment-tracking-homework2\\output\""
   ]
  },
  {
   "cell_type": "code",
   "execution_count": 25,
   "id": "5ef1d352",
   "metadata": {},
   "outputs": [
    {
     "data": {
      "text/plain": [
       "[<Experiment: artifact_location='./mlruns/0', experiment_id='0', lifecycle_stage='active', name='Default', tags={}>,\n",
       " <Experiment: artifact_location='./mlruns/1', experiment_id='1', lifecycle_stage='active', name='mlops_homework2', tags={}>,\n",
       " <Experiment: artifact_location='./mlruns/2', experiment_id='2', lifecycle_stage='active', name='mlops_hw2', tags={}>]"
      ]
     },
     "execution_count": 25,
     "metadata": {},
     "output_type": "execute_result"
    }
   ],
   "source": [
    "from mlflow.tracking import MlflowClient\n",
    "\n",
    "MLFLOW_TRACKING_URI = \"sqlite:///mlflow.db\"\n",
    "client = MlflowClient(tracking_uri=MLFLOW_TRACKING_URI)\n",
    "\n",
    "client.list_experiments()"
   ]
  },
  {
   "cell_type": "code",
   "execution_count": 39,
   "id": "b4186296",
   "metadata": {},
   "outputs": [
    {
     "name": "stdout",
     "output_type": "stream",
     "text": [
      "\n",
      "  0%|          | 0/50 [00:00<?, ?trial/s, best loss=?]\n",
      "  2%|2         | 1/50 [00:07<06:11,  7.59s/trial, best loss: 6.658956269343007]\n",
      "  4%|4         | 2/50 [00:07<02:38,  3.30s/trial, best loss: 6.658956269343007]\n",
      "  6%|6         | 3/50 [00:08<01:33,  2.00s/trial, best loss: 6.658956269343007]\n",
      "  8%|8         | 4/50 [00:13<02:28,  3.23s/trial, best loss: 6.651438559376775]\n",
      " 10%|#         | 5/50 [00:15<02:12,  2.95s/trial, best loss: 6.651438559376775]\n",
      " 12%|#2        | 6/50 [00:24<03:35,  4.91s/trial, best loss: 6.651438559376775]\n",
      " 14%|#4        | 7/50 [00:33<04:21,  6.09s/trial, best loss: 6.651438559376775]\n",
      " 16%|#6        | 8/50 [00:33<03:05,  4.42s/trial, best loss: 6.651438559376775]\n",
      " 18%|#8        | 9/50 [00:39<03:10,  4.64s/trial, best loss: 6.651438559376775]\n",
      " 20%|##        | 10/50 [00:43<03:00,  4.50s/trial, best loss: 6.651438559376775]\n",
      " 22%|##2       | 11/50 [00:46<02:40,  4.13s/trial, best loss: 6.642137287429206]\n",
      " 24%|##4       | 12/50 [00:49<02:18,  3.65s/trial, best loss: 6.642137287429206]\n",
      " 26%|##6       | 13/50 [00:49<01:43,  2.79s/trial, best loss: 6.642137287429206]\n",
      " 28%|##8       | 14/50 [00:52<01:42,  2.85s/trial, best loss: 6.642137287429206]\n",
      " 30%|###       | 15/50 [00:57<02:01,  3.46s/trial, best loss: 6.642137287429206]\n",
      " 32%|###2      | 16/50 [01:00<01:50,  3.26s/trial, best loss: 6.642137287429206]\n",
      " 34%|###4      | 17/50 [01:05<02:04,  3.79s/trial, best loss: 6.642137287429206]\n",
      " 36%|###6      | 18/50 [01:13<02:37,  4.91s/trial, best loss: 6.629728007710133]\n",
      " 38%|###8      | 19/50 [01:14<02:03,  3.98s/trial, best loss: 6.629728007710133]\n",
      " 40%|####      | 20/50 [01:16<01:33,  3.10s/trial, best loss: 6.629728007710133]\n",
      " 42%|####2     | 21/50 [01:26<02:35,  5.38s/trial, best loss: 6.629728007710133]\n",
      " 44%|####4     | 22/50 [01:34<02:52,  6.15s/trial, best loss: 6.629728007710133]\n",
      " 46%|####6     | 23/50 [01:47<03:37,  8.07s/trial, best loss: 6.629728007710133]\n",
      " 48%|####8     | 24/50 [01:57<03:49,  8.83s/trial, best loss: 6.629728007710133]\n",
      " 50%|#####     | 25/50 [02:05<03:34,  8.57s/trial, best loss: 6.629728007710133]\n",
      " 52%|#####2    | 26/50 [02:13<03:21,  8.41s/trial, best loss: 6.629728007710133]\n",
      " 54%|#####4    | 27/50 [02:17<02:43,  7.11s/trial, best loss: 6.629728007710133]\n",
      " 56%|#####6    | 28/50 [02:27<02:50,  7.73s/trial, best loss: 6.629728007710133]\n",
      " 58%|#####8    | 29/50 [02:29<02:10,  6.23s/trial, best loss: 6.629728007710133]\n",
      " 60%|######    | 30/50 [02:39<02:22,  7.14s/trial, best loss: 6.629728007710133]\n",
      " 62%|######2   | 31/50 [02:39<01:36,  5.10s/trial, best loss: 6.629728007710133]\n",
      " 64%|######4   | 32/50 [02:44<01:33,  5.22s/trial, best loss: 6.629728007710133]\n",
      " 66%|######6   | 33/50 [02:54<01:51,  6.56s/trial, best loss: 6.629728007710133]\n",
      " 68%|######8   | 34/50 [03:03<01:54,  7.15s/trial, best loss: 6.6284257482044735]\n",
      " 70%|#######   | 35/50 [03:07<01:34,  6.27s/trial, best loss: 6.6284257482044735]\n",
      " 72%|#######2  | 36/50 [03:12<01:22,  5.86s/trial, best loss: 6.6284257482044735]\n",
      " 74%|#######4  | 37/50 [03:12<00:53,  4.15s/trial, best loss: 6.6284257482044735]\n",
      " 76%|#######6  | 38/50 [03:18<00:56,  4.67s/trial, best loss: 6.6284257482044735]\n",
      " 78%|#######8  | 39/50 [03:25<01:00,  5.49s/trial, best loss: 6.6284257482044735]\n",
      " 80%|########  | 40/50 [03:33<01:01,  6.14s/trial, best loss: 6.6284257482044735]\n",
      " 82%|########2 | 41/50 [03:34<00:42,  4.69s/trial, best loss: 6.6284257482044735]\n",
      " 84%|########4 | 42/50 [03:37<00:33,  4.19s/trial, best loss: 6.6284257482044735]\n",
      " 86%|########6 | 43/50 [03:42<00:31,  4.43s/trial, best loss: 6.6284257482044735]\n",
      " 88%|########8 | 44/50 [03:48<00:29,  4.98s/trial, best loss: 6.6284257482044735]\n",
      " 90%|######### | 45/50 [03:51<00:21,  4.37s/trial, best loss: 6.6284257482044735]\n",
      " 92%|#########2| 46/50 [03:52<00:13,  3.31s/trial, best loss: 6.6284257482044735]\n",
      " 94%|#########3| 47/50 [03:57<00:11,  3.87s/trial, best loss: 6.6284257482044735]\n",
      " 96%|#########6| 48/50 [04:00<00:06,  3.41s/trial, best loss: 6.6284257482044735]\n",
      " 98%|#########8| 49/50 [04:04<00:03,  3.68s/trial, best loss: 6.6284257482044735]\n",
      "100%|##########| 50/50 [04:09<00:00,  4.18s/trial, best loss: 6.6284257482044735]\n",
      "100%|##########| 50/50 [04:09<00:00,  5.00s/trial, best loss: 6.6284257482044735]\n"
     ]
    },
    {
     "name": "stderr",
     "output_type": "stream",
     "text": [
      "2022/05/30 11:42:38 INFO mlflow.tracking.fluent: Experiment with name 'random-forest-hyperopt' does not exist. Creating a new experiment.\n"
     ]
    }
   ],
   "source": [
    "!python hpo.py"
   ]
  },
  {
   "cell_type": "markdown",
   "id": "06fe08b0",
   "metadata": {},
   "source": [
    "Answer: 6.628"
   ]
  },
  {
   "cell_type": "code",
   "execution_count": 40,
   "id": "4122f106",
   "metadata": {},
   "outputs": [
    {
     "data": {
      "text/plain": [
       "[<Experiment: artifact_location='./mlruns/0', experiment_id='0', lifecycle_stage='active', name='Default', tags={}>,\n",
       " <Experiment: artifact_location='./mlruns/1', experiment_id='1', lifecycle_stage='active', name='mlops_homework2', tags={}>,\n",
       " <Experiment: artifact_location='./mlruns/2', experiment_id='2', lifecycle_stage='active', name='mlops_hw2', tags={}>,\n",
       " <Experiment: artifact_location='./artifacts/3', experiment_id='3', lifecycle_stage='active', name='random-forest-hyperopt', tags={}>,\n",
       " <Experiment: artifact_location='./artifacts/4', experiment_id='4', lifecycle_stage='active', name='random-forest-best-models', tags={}>]"
      ]
     },
     "execution_count": 40,
     "metadata": {},
     "output_type": "execute_result"
    }
   ],
   "source": [
    "MLFLOW_TRACKING_URI = \"sqlite:///mlflow.db\"\n",
    "client = MlflowClient(tracking_uri=MLFLOW_TRACKING_URI)\n",
    "\n",
    "client.list_experiments()"
   ]
  },
  {
   "cell_type": "code",
   "execution_count": null,
   "id": "3e1d9d1e",
   "metadata": {},
   "outputs": [],
   "source": [
    "!python register_model.py"
   ]
  }
 ],
 "metadata": {
  "kernelspec": {
   "display_name": "Python 3 (ipykernel)",
   "language": "python",
   "name": "python3"
  },
  "language_info": {
   "codemirror_mode": {
    "name": "ipython",
    "version": 3
   },
   "file_extension": ".py",
   "mimetype": "text/x-python",
   "name": "python",
   "nbconvert_exporter": "python",
   "pygments_lexer": "ipython3",
   "version": "3.8.8"
  }
 },
 "nbformat": 4,
 "nbformat_minor": 5
}
